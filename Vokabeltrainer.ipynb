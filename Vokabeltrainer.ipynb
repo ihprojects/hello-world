{
 "metadata": {
  "language_info": {
   "codemirror_mode": {
    "name": "ipython",
    "version": 3
   },
   "file_extension": ".py",
   "mimetype": "text/x-python",
   "name": "python",
   "nbconvert_exporter": "python",
   "pygments_lexer": "ipython3",
   "version": "3.8.7-final"
  },
  "orig_nbformat": 2,
  "kernelspec": {
   "name": "python3",
   "display_name": "Python 3",
   "language": "python"
  }
 },
 "nbformat": 4,
 "nbformat_minor": 2,
 "cells": [
  {
   "cell_type": "code",
   "execution_count": 12,
   "metadata": {},
   "outputs": [
    {
     "output_type": "stream",
     "name": "stdout",
     "text": [
      "Wie lautet das deutsche Wort für chair ?\n2021-01-27 08:13:16.848609\n"
     ]
    },
    {
     "output_type": "execute_result",
     "data": {
      "text/plain": [
       "[{'english': 'chair',\n",
       "  'german': ['Tisch', 'Stuhl', 'Sessel'],\n",
       "  'answer': '2',\n",
       "  'correct': 'FALSE',\n",
       "  'timestamp': datetime.datetime(2021, 1, 27, 8, 13, 16, 848609)},\n",
       " {'english': 'window',\n",
       "  'german': ['Fenster', 'Tuer', 'Treppe'],\n",
       "  'answer': '1',\n",
       "  'correct': 'FALSE',\n",
       "  'timestamp': ''},\n",
       " {'english': 'fridge',\n",
       "  'german': ['Staubsauger', 'Spuelmaschine', 'Kuehlschrank'],\n",
       "  'answer': '3',\n",
       "  'correct': 'FALSE',\n",
       "  'timestamp': ''}]"
      ]
     },
     "metadata": {},
     "execution_count": 12
    }
   ],
   "source": [
    "from datetime import date, time ,datetime    # fuer den Zeitstempel\n",
    "\n",
    "# Definition einer Vokabel\n",
    "\n",
    "vokabulary_1 ={\n",
    "    'english':'chair',          # Der zu übersetzende englische Begriff\n",
    "    'german':['Tisch','Stuhl','Sessel'],    # Liste der möglichen Antworten\n",
    "    'answer':'2',               # Nummer der richtigen Antwort in Listenelement\n",
    "    'correct':'FALSE',          # Wurde richtig geantwortet TRUE / FALSE\n",
    "    'timestamp':'',             # Datum und Zeit der Beantwortung\n",
    "    }\n",
    "\n",
    "vokabulary_2 ={\n",
    "    'english':'window',          \n",
    "    'german':['Fenster','Tuer','Treppe'],\n",
    "    'answer':'1',               \n",
    "    'correct':'FALSE',          \n",
    "    'timestamp':'',             \n",
    "    }\n",
    "\n",
    "vokabulary_3 ={\n",
    "    'english':'fridge',          \n",
    "    'german':['Staubsauger','Spuelmaschine','Kuehlschrank'],\n",
    "    'answer':'3',               \n",
    "    'correct':'FALSE',          \n",
    "    'timestamp':'',             \n",
    "    }\n",
    "\n",
    "vokabulary = [vokabulary_1, vokabulary_2, vokabulary_3]     # Eine Liste aus mehreren Dictionaries \n",
    "\n",
    "# Hier werden die antworten noch vorgegeben, da wir noch kein 'User-Input' kennen\n",
    "answer_in_1 = 'Tisch'                           # Antwort auf die 1. Vokabel (richtige Antwort)\n",
    "answer_in_2 = 'Tuer'                            # Antwort auf die 2. Vokabel (falsch)\n",
    "answer_in_3 = 'Kuehlschrank'                    # Antwort auf die 3. Vokabel (richtig)\n",
    "\n",
    "# Vokabelabfrage\n",
    "\n",
    "for vok in vokabulary[:1]:\n",
    "    print('Wie lautet das deutsche Wort für',vok['english'],'?')        # Die Frage wird ausgegeben\n",
    "    #print('Antwortmoeglichkeiten:\\t',vok['german[1]'])\n",
    "    #                                   german 2\n",
    "    #                                   german 3\n",
    "    # ausgabe der richtigen (hier vorgegebenen) Antwort\n",
    "    # Vergleich der gegebenen Antwort mit der richtigen \n",
    "    # Speichern ob die Antwort richtig war\n",
    "    # Speichern des Timestamps der Antwort\n",
    "    time=datetime.now()\n",
    "    print(time)\n",
    "    vok['timestamp']= time\n",
    "    # Abfrage nächste Vokabel\n",
    "    \n",
    "vokabulary\n",
    "# Ausbaustufen:\n",
    "# Sortieren der richtigen Antworten nach Timestamp absteigend, damit die ältesten als erste wiederholt werden: \n",
    "# Sortieren der falschen Antworten nach Timestamp absteigend, damit die ältesten als erste wiederholt werden: \n",
    "# Gruppenweise Sortierung (falsch, richtig), damit sowohl bereits richtige und falsche abgefragt werden können\n",
    "    \n"
   ]
  },
  {
   "cell_type": "code",
   "execution_count": null,
   "metadata": {},
   "outputs": [],
   "source": []
  }
 ]
}