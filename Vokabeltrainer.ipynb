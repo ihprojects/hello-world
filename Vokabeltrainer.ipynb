{
 "metadata": {
  "language_info": {
   "codemirror_mode": {
    "name": "ipython",
    "version": 3
   },
   "file_extension": ".py",
   "mimetype": "text/x-python",
   "name": "python",
   "nbconvert_exporter": "python",
   "pygments_lexer": "ipython3",
   "version": "3.9.1-final"
  },
  "orig_nbformat": 2,
  "kernelspec": {
   "name": "python3",
   "display_name": "Python 3.9.1 64-bit",
   "metadata": {
    "interpreter": {
     "hash": "461352f94f89bdcf12987ff19d652b7d9492e0af2447a564fce9db4881f29880"
    }
   }
  }
 },
 "nbformat": 4,
 "nbformat_minor": 2,
 "cells": [
  {
   "cell_type": "code",
   "execution_count": 6,
   "metadata": {},
   "outputs": [
    {
     "output_type": "stream",
     "name": "stdout",
     "text": [
      "Wie lautet das deutsche Wort für chair ?\n2021-01-27 09:54:02.389904\n"
     ]
    },
    {
     "output_type": "execute_result",
     "data": {
      "text/plain": [
       "[{'english_word': 'chair',\n",
       "  'german_choose_word': ['Tisch', 'Stuhl', 'Sessel'],\n",
       "  'answer_index': 2,\n",
       "  'is_learned': False,\n",
       "  'trained_at': '',\n",
       "  'timestamp': datetime.datetime(2021, 1, 27, 9, 54, 2, 389904)},\n",
       " {'english_word': 'window',\n",
       "  'german_choose_word': ['Fenster', 'Tuer', 'Treppe'],\n",
       "  'answer_index': 1,\n",
       "  'is_learned': False,\n",
       "  'trained_at': ''},\n",
       " {'english_word': 'fridge',\n",
       "  'german_choose_word': ['Staubsauger', 'Spuelmaschine', 'Kuehlschrank'],\n",
       "  'answer_index': 3,\n",
       "  'is_learned': False,\n",
       "  'trained_at': ''}]"
      ]
     },
     "metadata": {},
     "execution_count": 6
    }
   ],
   "source": [
    "from datetime import date, time ,datetime    # fuer den Zeitstempel\n",
    "\n",
    "# Definition einer Vokabel\n",
    "# Wir müssen diese Wörte lernen \n",
    "word_1 ={\n",
    "    'english_word':'chair',          # Der zu übersetzende englische Begriff\n",
    "    'german_choose_word':['Tisch','Stuhl','Sessel'],    # Liste der möglichen Antworten\n",
    "    'answer_index':2,               # Nummer der richtigen Antwort in Listenelement\n",
    "    'is_learned':False,          # Wurde richtig geantwortet TRUE / FALSE\n",
    "    'trained_at':'',  # datetime.datetime(2021, 1, 27),             # TODO ??? Type Datum und Zeit der Beantwortung\n",
    "    }\n",
    "\n",
    "word_2 ={\n",
    "    'english_word':'window',          \n",
    "    'german_choose_word':['Fenster','Tuer','Treppe'],\n",
    "    'answer_index':1,               \n",
    "    'is_learned':False,          \n",
    "    'trained_at':'',   #datetime.datetime(2021, 1, 27),             \n",
    "    }\n",
    "\n",
    "word_3 ={\n",
    "    'english_word':'fridge',          \n",
    "    'german_choose_word':['Staubsauger','Spuelmaschine','Kuehlschrank'],\n",
    "    'answer_index':3,               \n",
    "    'is_learned':False,          \n",
    "    'trained_at':'',   #datetime.datetime(2021, 1, 27),             \n",
    "    }\n",
    "\n",
    "# Das ist mein Vokabulary zu lernen\n",
    "vokabulary = [word_1, word_2, word_3]     # Eine Liste aus mehreren Dictionaries \n",
    "\n",
    "# Hier werden die antworten noch vorgegeben, da wir noch kein 'User-Input' kennen\n",
    "answer_in_1 = 1                           # Antwort auf die 1. Vokabel (richtige Antwort)\n",
    "answer_in_2 = 2                            # Antwort auf die 2. Vokabel (falsch)\n",
    "answer_in_3 = 3                    # Antwort auf die 3. Vokabel (richtig)\n",
    "\n",
    "# Vokabelabfrage\n",
    "# Wir üben:\n",
    "for vok in vokabulary[:1]:\n",
    "    print('Wie lautet das deutsche Wort für',vok['english_word'],'?')        # Die Frage wird ausgegeben\n",
    "    # print(f'Antwortmoeglichkeiten:\\t\\t1. {vok[\"german\"][0]}\\n\\t\\t\\t\\t2. {vok[\"german\"][1]}\\n\\t\\t\\t\\t3. {vok[\"german\"][2]}\\n')\n",
    "    #                                   german 2\n",
    "    #                                   german 3\n",
    "\n",
    "    # ausgabe der richtigen (hier vorgegebenen) Antwort\n",
    "    # Vergleich der gegebenen Antwort mit der richtigen \n",
    "    # Speichern ob die Antwort richtig war\n",
    "    # Speichern des Timestamps der Antwort\n",
    "    time=datetime.now()\n",
    "    print(time)\n",
    "    vok['timestamp']= time\n",
    "    # Abfrage nächste Vokabel\n",
    "\n",
    "  \n",
    "vokabulary\n",
    "# Ausbaustufen:\n",
    "# Sortieren der richtigen Antworten nach Timestamp absteigend, damit die ältesten als erste wiederholt werden: \n",
    "# Sortieren der falschen Antworten nach Timestamp absteigend, damit die ältesten als erste wiederholt werden: \n",
    " # Auswertung - Anzahl von richtig, Anzahl von falsch \n",
    "# Gruppenweise Sortierung (falsch, richtig), damit sowohl bereits richtige und falsche abgefragt werden können\n",
    "# Wir brauchen keine Timestamp  \n",
    "# Zeigen,"
   ]
  },
  {
   "cell_type": "code",
   "execution_count": null,
   "metadata": {},
   "outputs": [],
   "source": []
  }
 ]
}